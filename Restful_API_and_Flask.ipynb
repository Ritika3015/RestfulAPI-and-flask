{
  "nbformat": 4,
  "nbformat_minor": 0,
  "metadata": {
    "colab": {
      "provenance": []
    },
    "kernelspec": {
      "name": "python3",
      "display_name": "Python 3"
    },
    "language_info": {
      "name": "python"
    }
  },
  "cells": [
    {
      "cell_type": "markdown",
      "source": [
        "THEORY QUESTIONS\n",
        "1) What is a RESTful API?\n",
        "- A RESTful API (Representational State Transfer API) is a web service that follows the principles of REST architecture to allow communication between systems over HTTP. It's commonly used to let clients (like web or mobile apps) interact with a server to create, read, update, or delete (CRUD) data.\n",
        "\n",
        "2) Explain the concept of API specification.\n",
        "- The concept of an API specification refers to a detailed, standardized document that describes how an API behaves, including its structure, inputs, outputs, and available endpoints. It acts as a contract between the API provider (server) and the consumer (client), ensuring they understand how to communicate properly.\n",
        "\n",
        "3) What is Flask, and why is it popular for building APIs?\n",
        "- Flask is a lightweight and flexible web framework for Python, primarily used to build web applications and RESTful APIs. It follows the WSGI (Web Server Gateway Interface) standard and is often referred to as a microframework because it doesn’t come with built-in tools like form validation, database abstraction, or authentication — but you can easily add those via extensions.\n",
        "- Lightweight-\tMinimal setup and structure — ideal for small to medium APIs.\n",
        "- Flexible-\tYou have full control over how to structure your app and what tools to use.\n",
        "- Easy to Learn-\tSimple syntax and clear documentation — great for beginners.\n",
        "- Built-in Development- Server\tMakes testing and debugging easy.\n",
        "- Extensible-\tEasily integrates with tools like SQLAlchemy (for databases), Marshmallow (for serialization), and Flask-RESTful (for building APIs).\n",
        "- JSON Support-\tHas built-in support for JSON request and response handling via jsonify() and request.get_json().\n",
        "- Large Ecosystem-\tLots of plugins and community support for adding features like authentication, CORS, etc\n",
        "\n",
        "4) What is routing in Flask?\n",
        "- Routing in Flask is the process of mapping URLs (routes) to specific functions (called view functions) that should be executed when a user accesses that URL.\n",
        "\n",
        "- In simpler terms, Routing tells Flask what to do when a user visits a specific URL.\n",
        "\n",
        "5) How do you create a simple Flask application?\n",
        "- Flask(__name__)-\tCreates a Flask app object.\n",
        "- @app.route('/')- Sets up a route for the homepage.\n",
        "- def home():\t- Defines the function that runs for that route.\n",
        "- app.run(debug=True)-\tStarts the development server with debug mode on\n",
        "\n",
        "6) What are HTTP methods used in RESTful APIs?\n",
        "- GET- Retrieve data\n",
        "- POST- Create new data\n",
        "- PUT- Replace data\n",
        "- DELETE-\tRemove data\n",
        "\n",
        "7) What is the purpose of the @app.route() decorator in Flask?\n",
        "- The @app.route() decorator in Flask is used to define a route — it tells the Flask app which URL should trigger which function.\n",
        "\n",
        "- In simple terms, @app.route() maps a URL path (like /home) to a view function (a Python function that returns a response).\n",
        "\n",
        "8) What is the difference between GET and POST HTTP methods?\n",
        "- GET method\n",
        "- It is a default method.\n",
        "- Designed to get data from server\n",
        "- Not secured because query string appended in the URL bar\n",
        "- Only limited amount of data can be sent as the data is sent in the header\n",
        "\n",
        "- POST method\n",
        "- Not a default method\n",
        "- Designed to send data from server\n",
        "- Secured because data is not exposed I the URL bar\n",
        "- Large amount of data can be sent as the data is sent in the header.\n",
        "\n",
        "9) How do you handle errors in Flask APIs?\n",
        "- Using @app.errorhandler() Decorator\n",
        "This is the cleanest way to catch specific error codes (like 404 or 500) and return custom JSON responses.\n",
        "- Using abort() to Trigger Errors Manually.\n",
        "- Handling Exceptions with try-except\n",
        "\n",
        "10) How do you connect Flask to a SQL database?\n",
        "- Install Flask-SQLAlchemy\n",
        "- Set Up Your Flask App (app.py)\n",
        "- Define a Database Model (Table)\n",
        "- Create the Tables\n",
        "- Add and Retrieve Data\n",
        "\n",
        "11) What is the role of Flask-SQLAlchemy?\n",
        "- Flask-SQLAlchemy is a Flask extension that simplifies the integration of SQLAlchemy (a powerful SQL toolkit and ORM) into a Flask application.\n",
        "\n",
        "12) What are Flask blueprints, and how are they useful?\n",
        "- Flask Blueprints are a way to organize your application into modular components\n",
        "- Modularity-\tSplit large apps into manageable sections (e.g., auth, admin, api)\n",
        "- Reusability-\tReuse the same Blueprint across multiple projects\n",
        "- Separation of Concerns-\tKeep related routes, logic, and templates together\n",
        "- Cleaner Code-\tPrevents app.py from becoming too large or messy\n",
        "\n",
        "13) What is the purpose of Flask's request object?\n",
        "- The request object in Flask is used to access data sent by the client (e.g., browser, API consumer) in an incoming HTTP request\n",
        "\n",
        "14) How do you create a RESTful API endpoint using Flask?\n",
        "- Install Flask\n",
        "- Create the application (app.py)\n",
        "- Run the server\n",
        "- Test the endpoints\n",
        "\n",
        "15) What is the purpose of Flask's jsonify() function?\n",
        "- The jsonify() function in Flask is used to convert Python data (like dict or list) into a JSON-formatted response with the correct Content-Type.\n",
        "\n",
        "16) Explain Flask’s url_for() function?\n",
        "- The url_for() function in Flask generates a URL for a specific function (route handler) dynamically, based on its name.\n",
        "- It is a safe and recommended way to build internal URLs in Flask applications.\n",
        "\n",
        "17) How does Flask handle static files (CSS, JavaScript, etc.)?\n",
        "- Flask automatically serves static files like CSS, JavaScript, images, and fonts from a dedicated folder named static.\n",
        "\n",
        "18) What is an API specification, and how does it help in building a Flask API?\n",
        "- An API specification is a formal, structured document that defines how a client can communicate with an API.\n",
        "- It describes the endpoints, methods, input/output data formats, status codes, and authentication rules of the API\n",
        "\n",
        "19) What are HTTP status codes, and why are they important in a Flask API?\n",
        "- HTTP status codes are 3-digit numbers returned by the server (like Flask) to indicate the outcome of a client’s request. They help both users and developers understand what happened during an API call.\n",
        "\n",
        "20) How do you handle POST requests in Flask?\n",
        "- In Flask, you handle POST requests using the @app.route() decorator with the methods=['POST'] argument and by accessing the data sent by the client via request\n",
        "\n",
        "21) How would you secure a Flask API?\n",
        "- Use HTTPS (SSL/TLS)\n",
        "- Authentication & Authorization\n",
        "\n",
        "22) What is the significance of the Flask-RESTful extension?\n",
        "- Flask-RESTful is an extension for Flask that helps you build RESTful APIs faster and more cleanly by providing tools to structure your API into resources, handle HTTP methods, and manage request parsing and responses.\n",
        "\n",
        "23) What is the role of Flask’s session object?\n",
        "- The session object in Flask is used to store data for individual users across requests, similar to a login session in web applications."
      ],
      "metadata": {
        "id": "ng1xj6jMq_Kq"
      }
    },
    {
      "cell_type": "code",
      "execution_count": 1,
      "metadata": {
        "colab": {
          "base_uri": "https://localhost:8080/"
        },
        "id": "c1JLXlGT07VF",
        "outputId": "bf305629-188e-4d06-98d3-8b959874035c"
      },
      "outputs": [
        {
          "output_type": "stream",
          "name": "stdout",
          "text": [
            " * Serving Flask app '__main__'\n",
            " * Debug mode: off\n"
          ]
        },
        {
          "output_type": "stream",
          "name": "stderr",
          "text": [
            "INFO:werkzeug:\u001b[31m\u001b[1mWARNING: This is a development server. Do not use it in a production deployment. Use a production WSGI server instead.\u001b[0m\n",
            " * Running on http://127.0.0.1:5000\n",
            "INFO:werkzeug:\u001b[33mPress CTRL+C to quit\u001b[0m\n"
          ]
        }
      ],
      "source": [
        "#PRACTICAL QUESTIONS\n",
        "#1)  How do you create a basic Flask application?\n",
        "\n",
        "from flask import Flask\n",
        "\n",
        "app = Flask(__name__)\n",
        "\n",
        "@app.route('/')\n",
        "def hello_world():\n",
        "    return 'Hello, World!'\n",
        "\n",
        "if __name__ == '__main__':\n",
        "    app.run()"
      ]
    },
    {
      "cell_type": "code",
      "source": [
        "#2) How do you serve static files like images or CSS in Flask?\n",
        "\n",
        "from flask import Flask, send_from_directory\n",
        "\n",
        "app = Flask(__name__)\n",
        "\n",
        "@app.route('/static/<path:filename>')\n",
        "def serve_static(filename):\n",
        "    return send_from_directory('static', filename)"
      ],
      "metadata": {
        "id": "PMjM5zoe1YEb"
      },
      "execution_count": 2,
      "outputs": []
    },
    {
      "cell_type": "code",
      "source": [
        "#3) How do you define different routes with different HTTP methods in Flask?\n",
        "\n",
        "from flask import Flask, request\n",
        "app = Flask(__name__)\n",
        "\n",
        "@app.route('/')\n",
        "def index():\n",
        "    return 'Hello, World!'\n",
        "\n",
        "@app.route('/hello', methods=['GET', 'POST'])\n",
        "def hello():\n",
        "    if request.method == 'POST':\n",
        "        name = request.form['name']\n",
        "\n",
        "        return f'Hello, {name}!'\n",
        "    else:\n",
        "        return 'Hello, World!'\n",
        "\n",
        "\n"
      ],
      "metadata": {
        "id": "jn-rK9Wz1YBC"
      },
      "execution_count": 3,
      "outputs": []
    },
    {
      "cell_type": "markdown",
      "source": [],
      "metadata": {
        "id": "zfF7t3kynFaL"
      }
    },
    {
      "cell_type": "code",
      "source": [
        "#4)  How do you render HTML templates in Flask?\n",
        "from flask import Flask, render_template\n",
        "app = Flask(__name__)\n",
        "\n",
        "@app.route('/')\n",
        "def index():\n",
        "    return render_template('index.html')\n"
      ],
      "metadata": {
        "id": "4OscCx0M1X-r"
      },
      "execution_count": 4,
      "outputs": []
    },
    {
      "cell_type": "code",
      "source": [
        "#5)  How can you generate URLs for routes in Flask using url_for?\n",
        "\n",
        "from flask import Flask, url_for\n",
        "app = Flask(__name__)\n",
        "\n",
        "@app.route('/')\n",
        "def index():\n",
        "    return 'Hello, World!'"
      ],
      "metadata": {
        "id": "RbuHsggT1X8H"
      },
      "execution_count": 5,
      "outputs": []
    },
    {
      "cell_type": "code",
      "source": [
        "#6) How do you handle forms in Flask?\n",
        "\n",
        "from flask import Flask, render_template, request\n",
        "app = Flask(__name__)\n",
        "\n",
        "@app.route('/')\n",
        "def index():\n",
        "    return render_template('index.html')\n",
        "\n",
        "@app.route('/submit', methods=['POST'])\n",
        "def submit():\n",
        "    name = request.form['name']\n",
        "    return f'Hello, {name}!'"
      ],
      "metadata": {
        "id": "XTGH01rx1X5U"
      },
      "execution_count": 6,
      "outputs": []
    },
    {
      "cell_type": "code",
      "source": [
        "#7) How can you validate form data in Flask?\n",
        "\n",
        "!pip install flask-ngrok wtforms\n",
        "from flask import Flask, request, render_template_string\n",
        "from flask_ngrok import run_with_ngrok\n",
        "from wtforms import Form, StringField, validators\n",
        "\n",
        "app = Flask(__name__)\n",
        "run_with_ngrok(app)\n",
        "\n",
        "class SimpleForm(Form):\n",
        "    name = StringField('Name', [validators.DataRequired()])\n",
        "    email = StringField('Email', [validators.Email()])\n",
        "\n",
        "template = \"\"\"\n",
        "<form method=\"post\">\n",
        "  Name: <input type=\"text\" name=\"name\"><br>\n",
        "  Email: <input type=\"text\" name=\"email\"><br>\n",
        "  <input type=\"submit\">\n",
        "</form>\n",
        "\n",
        "{% for field, errs in form.errors.items() %}\n",
        "  {% for err in errs %}\n",
        "    <p style=\"color:red;\">{{ field }}: {{ err }}</p>\n",
        "  {% endfor %}\n",
        "{% endfor %}\n",
        "\"\"\"\n",
        "\n",
        "@app.route(\"/\", methods=[\"GET\", \"POST\"])\n",
        "def index():\n",
        "    form = SimpleForm(request.form)\n",
        "    if request.method == \"POST\" and form.validate():\n",
        "        return f\"<h3>Welcome, {form.name.data}!</h3>\"\n",
        "    return render_template_string(template, form=form)\n",
        "\n",
        "app.run()\n"
      ],
      "metadata": {
        "id": "6jxZUGi51X24",
        "colab": {
          "base_uri": "https://localhost:8080/"
        },
        "outputId": "dbae463f-a7b1-4e47-c611-3ca86dcb0cd9"
      },
      "execution_count": 18,
      "outputs": [
        {
          "output_type": "stream",
          "name": "stdout",
          "text": [
            "Requirement already satisfied: flask-ngrok in /usr/local/lib/python3.11/dist-packages (0.0.25)\n",
            "Requirement already satisfied: wtforms in /usr/local/lib/python3.11/dist-packages (3.2.1)\n",
            "Requirement already satisfied: Flask>=0.8 in /usr/local/lib/python3.11/dist-packages (from flask-ngrok) (3.1.1)\n",
            "Requirement already satisfied: requests in /usr/local/lib/python3.11/dist-packages (from flask-ngrok) (2.32.3)\n",
            "Requirement already satisfied: markupsafe in /usr/local/lib/python3.11/dist-packages (from wtforms) (3.0.2)\n",
            "Requirement already satisfied: blinker>=1.9.0 in /usr/local/lib/python3.11/dist-packages (from Flask>=0.8->flask-ngrok) (1.9.0)\n",
            "Requirement already satisfied: click>=8.1.3 in /usr/local/lib/python3.11/dist-packages (from Flask>=0.8->flask-ngrok) (8.2.1)\n",
            "Requirement already satisfied: itsdangerous>=2.2.0 in /usr/local/lib/python3.11/dist-packages (from Flask>=0.8->flask-ngrok) (2.2.0)\n",
            "Requirement already satisfied: jinja2>=3.1.2 in /usr/local/lib/python3.11/dist-packages (from Flask>=0.8->flask-ngrok) (3.1.6)\n",
            "Requirement already satisfied: werkzeug>=3.1.0 in /usr/local/lib/python3.11/dist-packages (from Flask>=0.8->flask-ngrok) (3.1.3)\n",
            "Requirement already satisfied: charset-normalizer<4,>=2 in /usr/local/lib/python3.11/dist-packages (from requests->flask-ngrok) (3.4.2)\n",
            "Requirement already satisfied: idna<4,>=2.5 in /usr/local/lib/python3.11/dist-packages (from requests->flask-ngrok) (3.10)\n",
            "Requirement already satisfied: urllib3<3,>=1.21.1 in /usr/local/lib/python3.11/dist-packages (from requests->flask-ngrok) (2.4.0)\n",
            "Requirement already satisfied: certifi>=2017.4.17 in /usr/local/lib/python3.11/dist-packages (from requests->flask-ngrok) (2025.4.26)\n",
            " * Serving Flask app '__main__'\n",
            " * Debug mode: off\n"
          ]
        },
        {
          "output_type": "stream",
          "name": "stderr",
          "text": [
            "INFO:werkzeug:\u001b[31m\u001b[1mWARNING: This is a development server. Do not use it in a production deployment. Use a production WSGI server instead.\u001b[0m\n",
            " * Running on http://127.0.0.1:5000\n",
            "INFO:werkzeug:\u001b[33mPress CTRL+C to quit\u001b[0m\n",
            "Exception in thread Thread-8:\n",
            "Traceback (most recent call last):\n",
            "  File \"/usr/local/lib/python3.11/dist-packages/urllib3/connection.py\", line 198, in _new_conn\n",
            "    sock = connection.create_connection(\n",
            "           ^^^^^^^^^^^^^^^^^^^^^^^^^^^^^\n",
            "  File \"/usr/local/lib/python3.11/dist-packages/urllib3/util/connection.py\", line 85, in create_connection\n",
            "    raise err\n",
            "  File \"/usr/local/lib/python3.11/dist-packages/urllib3/util/connection.py\", line 73, in create_connection\n",
            "    sock.connect(sa)\n",
            "ConnectionRefusedError: [Errno 111] Connection refused\n",
            "\n",
            "The above exception was the direct cause of the following exception:\n",
            "\n",
            "Traceback (most recent call last):\n",
            "  File \"/usr/local/lib/python3.11/dist-packages/urllib3/connectionpool.py\", line 787, in urlopen\n",
            "    response = self._make_request(\n",
            "               ^^^^^^^^^^^^^^^^^^^\n",
            "  File \"/usr/local/lib/python3.11/dist-packages/urllib3/connectionpool.py\", line 493, in _make_request\n",
            "    conn.request(\n",
            "  File \"/usr/local/lib/python3.11/dist-packages/urllib3/connection.py\", line 445, in request\n",
            "    self.endheaders()\n",
            "  File \"/usr/lib/python3.11/http/client.py\", line 1298, in endheaders\n",
            "    self._send_output(message_body, encode_chunked=encode_chunked)\n",
            "  File \"/usr/lib/python3.11/http/client.py\", line 1058, in _send_output\n",
            "    self.send(msg)\n",
            "  File \"/usr/lib/python3.11/http/client.py\", line 996, in send\n",
            "    self.connect()\n",
            "  File \"/usr/local/lib/python3.11/dist-packages/urllib3/connection.py\", line 276, in connect\n",
            "    self.sock = self._new_conn()\n",
            "                ^^^^^^^^^^^^^^^^\n",
            "  File \"/usr/local/lib/python3.11/dist-packages/urllib3/connection.py\", line 213, in _new_conn\n",
            "    raise NewConnectionError(\n",
            "urllib3.exceptions.NewConnectionError: <urllib3.connection.HTTPConnection object at 0x7908977e4810>: Failed to establish a new connection: [Errno 111] Connection refused\n",
            "\n",
            "The above exception was the direct cause of the following exception:\n",
            "\n",
            "Traceback (most recent call last):\n",
            "  File \"/usr/local/lib/python3.11/dist-packages/requests/adapters.py\", line 667, in send\n",
            "    resp = conn.urlopen(\n",
            "           ^^^^^^^^^^^^^\n",
            "  File \"/usr/local/lib/python3.11/dist-packages/urllib3/connectionpool.py\", line 841, in urlopen\n",
            "    retries = retries.increment(\n",
            "              ^^^^^^^^^^^^^^^^^^\n",
            "  File \"/usr/local/lib/python3.11/dist-packages/urllib3/util/retry.py\", line 519, in increment\n",
            "    raise MaxRetryError(_pool, url, reason) from reason  # type: ignore[arg-type]\n",
            "    ^^^^^^^^^^^^^^^^^^^^^^^^^^^^^^^^^^^^^^^^^^^^^^^^^^^\n",
            "urllib3.exceptions.MaxRetryError: HTTPConnectionPool(host='localhost', port=4040): Max retries exceeded with url: /api/tunnels (Caused by NewConnectionError('<urllib3.connection.HTTPConnection object at 0x7908977e4810>: Failed to establish a new connection: [Errno 111] Connection refused'))\n",
            "\n",
            "During handling of the above exception, another exception occurred:\n",
            "\n",
            "Traceback (most recent call last):\n",
            "  File \"/usr/lib/python3.11/threading.py\", line 1045, in _bootstrap_inner\n",
            "    self.run()\n",
            "  File \"/usr/lib/python3.11/threading.py\", line 1401, in run\n",
            "    self.function(*self.args, **self.kwargs)\n",
            "  File \"/usr/local/lib/python3.11/dist-packages/flask_ngrok.py\", line 70, in start_ngrok\n",
            "    ngrok_address = _run_ngrok()\n",
            "                    ^^^^^^^^^^^^\n",
            "  File \"/usr/local/lib/python3.11/dist-packages/flask_ngrok.py\", line 35, in _run_ngrok\n",
            "    tunnel_url = requests.get(localhost_url).text  # Get the tunnel information\n",
            "                 ^^^^^^^^^^^^^^^^^^^^^^^^^^^\n",
            "  File \"/usr/local/lib/python3.11/dist-packages/requests/api.py\", line 73, in get\n",
            "    return request(\"get\", url, params=params, **kwargs)\n",
            "           ^^^^^^^^^^^^^^^^^^^^^^^^^^^^^^^^^^^^^^^^^^^^\n",
            "  File \"/usr/local/lib/python3.11/dist-packages/requests/api.py\", line 59, in request\n",
            "    return session.request(method=method, url=url, **kwargs)\n",
            "           ^^^^^^^^^^^^^^^^^^^^^^^^^^^^^^^^^^^^^^^^^^^^^^^^^\n",
            "  File \"/usr/local/lib/python3.11/dist-packages/requests/sessions.py\", line 589, in request\n",
            "    resp = self.send(prep, **send_kwargs)\n",
            "           ^^^^^^^^^^^^^^^^^^^^^^^^^^^^^^\n",
            "  File \"/usr/local/lib/python3.11/dist-packages/requests/sessions.py\", line 703, in send\n",
            "    r = adapter.send(request, **kwargs)\n",
            "        ^^^^^^^^^^^^^^^^^^^^^^^^^^^^^^^\n",
            "  File \"/usr/local/lib/python3.11/dist-packages/requests/adapters.py\", line 700, in send\n",
            "    raise ConnectionError(e, request=request)\n",
            "requests.exceptions.ConnectionError: HTTPConnectionPool(host='localhost', port=4040): Max retries exceeded with url: /api/tunnels (Caused by NewConnectionError('<urllib3.connection.HTTPConnection object at 0x7908977e4810>: Failed to establish a new connection: [Errno 111] Connection refused'))\n"
          ]
        }
      ]
    },
    {
      "cell_type": "code",
      "source": [
        "#8) How do you manage sessions in Flask?\n",
        "\n",
        "from flask import Flask, session\n",
        "app = Flask(__name__)\n",
        "app.secret_key = 'your_secret_key'\n",
        "\n",
        "@app.route('/')\n",
        "def index():\n",
        "    if 'username' in session:\n",
        "        return f'Hello, {session[\"username\"]}!'\n",
        "        return 'You are not logged in.'\n",
        "        return render_template('login.html')\n",
        "\n",
        "@app.route('/login', methods=['POST'])\n",
        "def login():\n",
        "    username = request.form['username']\n",
        "    session['username'] = username\n",
        "    return redirect(url_for('index'))\n"
      ],
      "metadata": {
        "id": "U8mNAKay1X0V"
      },
      "execution_count": 8,
      "outputs": []
    },
    {
      "cell_type": "code",
      "source": [
        "#9) How do you redirect to a different route in Flask?\n",
        "\n",
        "from flask import Flask, redirect, url_for\n",
        "app = Flask(__name__)\n",
        "\n",
        "@app.route('/')\n",
        "def index():\n",
        "    return 'Hello, World!'\n",
        "\n",
        "@app.route('/redirect')\n",
        "def redirect_to_index():\n",
        "    return redirect(url_for('index'))\n"
      ],
      "metadata": {
        "id": "reU8HLDe1Xx5"
      },
      "execution_count": 9,
      "outputs": []
    },
    {
      "cell_type": "code",
      "source": [
        "#10) How do you handle errors in Flask (e.g., 404)?\n",
        "\n",
        "from flask import Flask, render_template\n",
        "app = Flask(__name__)\n",
        "\n",
        "@app.errorhandler(404)\n",
        "def page_not_found(error):\n",
        "    return render_template('404.html'), 404\n"
      ],
      "metadata": {
        "id": "ZHo-O7q21XvB"
      },
      "execution_count": 10,
      "outputs": []
    },
    {
      "cell_type": "code",
      "source": [
        "#11) How do you structure a Flask app using Blueprints?\n",
        "\n",
        "from flask import Blueprint, jsonify\n",
        "auth_bp = Blueprint('auth', __name__)\n",
        "\n",
        "@auth_bp.route('/login')\n",
        "def login():\n",
        "    return jsonify({\"message\": \"Login page\"})"
      ],
      "metadata": {
        "id": "1ybXdtDd1XsY"
      },
      "execution_count": 16,
      "outputs": []
    },
    {
      "cell_type": "code",
      "source": [
        "#12) How do you define a custom Jinja filter in Flask?\n",
        "\n",
        "from flask import Flask\n",
        "from jinja2 import Environment, filters\n",
        "\n",
        "app = Flask(__name__)\n",
        "\n",
        "@app.template_filter('custom_filter')\n",
        "def custom_filter(value):\n",
        "    return value.upper()\n",
        "\n"
      ],
      "metadata": {
        "id": "QAo6ghzC1Xp1"
      },
      "execution_count": 12,
      "outputs": []
    },
    {
      "cell_type": "code",
      "source": [
        "#13)  How can you redirect with query parameters in Flask?\n",
        "\n",
        "from flask import Flask, redirect, url_for, request\n",
        "app = Flask(__name__)\n",
        "\n",
        "@app.route('/')\n",
        "def index():\n",
        "    return 'Hello, World!'\n",
        "\n",
        "@app.route('/redirect')\n",
        "def redirect_to_index():\n",
        "    return redirect(url_for('index', name='John'))\n",
        "\n",
        "@app.route('/redirect/<name>')\n",
        "def redirect_to_index_with_name(name):\n",
        "    return redirect(url_for('index', name=name))\n",
        "\n",
        "@app.route('/login')\n",
        "def login():\n",
        "    return redirect(url_for('index', name=request.args.get('name')))\n",
        "\n"
      ],
      "metadata": {
        "id": "eBjNPVjjo1bt"
      },
      "execution_count": 13,
      "outputs": []
    },
    {
      "cell_type": "code",
      "source": [
        "#14)  How do you return JSON responses in Flask?\n",
        "\n",
        "from flask import Flask, jsonify\n",
        "app = Flask(__name__)\n",
        "\n",
        "@app.route('/api/data')\n",
        "def get_data():\n",
        "    data = {'message': 'Hello, World!'}\n",
        "    return jsonify(data)\n"
      ],
      "metadata": {
        "id": "0LnmvIDro1ZG"
      },
      "execution_count": 14,
      "outputs": []
    },
    {
      "cell_type": "code",
      "source": [
        "#15) How do you capture URL parameters in Flask??\n",
        "\n",
        "from flask import Flask, request\n",
        "app = Flask(__name__)\n",
        "\n",
        "@app.route('/user/<username>')\n",
        "def show_user_profile(username):\n",
        "    return f'User {username}'"
      ],
      "metadata": {
        "id": "n6VlM2lEo1W2"
      },
      "execution_count": 15,
      "outputs": []
    }
  ]
}